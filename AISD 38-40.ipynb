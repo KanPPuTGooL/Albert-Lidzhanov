{
 "cells": [
  {
   "cell_type": "markdown",
   "id": "85baf2c9",
   "metadata": {},
   "source": [
    "38) Необходимо отсортировать массив объектов по заданному критерию и вывести результат на экран. В зависимости от переданного параметра отсортировать массив объектов класса «Книга» по автору, названию или году издания, используя алгоритмы сортировки: пузырьковую, сортировку вставками и быструю сортировку. Сравнить время выполнения алгоритмов сортировки с помощью декоратора. Данные о книгах хранятся в файле."
   ]
  },
  {
   "cell_type": "code",
   "execution_count": null,
   "id": "8a893143",
   "metadata": {},
   "outputs": [],
   "source": []
  },
  {
   "cell_type": "markdown",
   "id": "41f36364",
   "metadata": {},
   "source": [
    "39) Реализовать класс бинарного дерева. Написать функцию для проверки, является ли бинарное дерево сбалансированным."
   ]
  },
  {
   "cell_type": "code",
   "execution_count": 3,
   "id": "7befc29e",
   "metadata": {},
   "outputs": [
    {
     "name": "stdout",
     "output_type": "stream",
     "text": [
      "True\n",
      "False\n"
     ]
    }
   ],
   "source": [
    "class TreeNode:\n",
    "    def __init__(self, value=0, left=None, right=None):\n",
    "        self.value = value  # Значение узла\n",
    "        self.left = left    # Левый узел\n",
    "        self.right = right  # Правый узел\n",
    "\n",
    "class BinaryTree:\n",
    "    def __init__(self, root=None):\n",
    "        self.root = root  # Корневой узел дерева\n",
    "\n",
    "    def is_balanced(self):\n",
    "        # Вспомогательная функция для проверки высоты поддерева\n",
    "        def check_height(node):\n",
    "            if not node:\n",
    "                return 0  # Пустое дерево имеет высоту 0\n",
    "            \n",
    "            left_height = check_height(node.left)  # Высота левого поддерева\n",
    "            if left_height == -1:\n",
    "                return -1  # Если левое поддерево несбалансировано, возвращаем -1\n",
    "            \n",
    "            right_height = check_height(node.right)  # Высота правого поддерева\n",
    "            if right_height == -1:\n",
    "                return -1  # Если правое поддерево несбалансировано, возвращаем -1\n",
    "            \n",
    "            if abs(left_height - right_height) > 1:\n",
    "                return -1  # Если разница высот больше 1, дерево несбалансировано\n",
    "            \n",
    "            return max(left_height, right_height) + 1  # Возвращаем высоту поддерева\n",
    "\n",
    "        return check_height(self.root) != -1  # Дерево сбалансировано, если check_height не возвращает -1\n",
    "\n",
    "# Пример использования\n",
    "if __name__ == \"__main__\":\n",
    "    # Создаем сбалансированное дерево\n",
    "    node1 = TreeNode(1)\n",
    "    node2 = TreeNode(2) \n",
    "    node3 = TreeNode(3) \n",
    "    node4 = TreeNode(4, node1, node2) \n",
    "    node5 = TreeNode(5, None, node3)  \n",
    "    root = TreeNode(0, node4, node5) \n",
    "    \n",
    "    tree = BinaryTree(root)\n",
    "    print(tree.is_balanced())\n",
    "\n",
    "    # Создаем несбалансированное дерево\n",
    "    node6 = TreeNode(6)  # Узел с значением 6\n",
    "    node7 = TreeNode(7, node6, None)  \n",
    "    node8 = TreeNode(8, node7, None)  \n",
    "    root2 = TreeNode(0, node8, None)\n",
    "    \n",
    "    tree2 = BinaryTree(root2)\n",
    "    print(tree2.is_balanced())"
   ]
  },
  {
   "cell_type": "markdown",
   "id": "0644d5d6",
   "metadata": {},
   "source": [
    "40) Работает система, которая отслеживает активность пользователей на веб-сайте. Каждый раз, когда пользователь посещает страницу, система создает запись с временной меткой. Реализовать структуру данных на основе двоичной кучи, которая будет поддерживать операции добавления записи и извлечения записей за определенный период времени."
   ]
  },
  {
   "cell_type": "code",
   "execution_count": null,
   "id": "d1c7843c",
   "metadata": {},
   "outputs": [],
   "source": [
    "class BinaryHeap:\n",
    "    def __init__(self):\n",
    "        self.heap = []  # Инициализация пустого списка для хранения элементов кучи\n",
    "\n",
    "    def insert(self, timestamp):\n",
    "        self.heap.append(timestamp)  # Добавляем новую запись с временной меткой в конец списка\n",
    "        self._sift_up(len(self.heap) - 1)  # Поднимаем добавленный элемент на правильное место в куче\n",
    "\n",
    "    def extract_in_period(self, start, end):\n",
    "        result = []  # Инициализируем список для хранения записей, попадающих в указанный период\n",
    "        for ts in self.heap:  # Проходим по всем элементам кучи\n",
    "            if start <= ts <= end:  # Проверяем, попадает ли элемент в указанный период\n",
    "                result.append(ts)  # Если да, добавляем его в результирующий список\n",
    "        return result  # Возвращаем список записей за указанный период\n",
    "\n",
    "    def _sift_up(self, idx):\n",
    "        parent_idx = (idx - 1) // 2  # Вычисляем индекс родительского элемента\n",
    "        # Проверяем, нужно ли поднимать элемент\n",
    "        if idx > 0 and self.heap[idx] < self.heap[parent_idx]:  \n",
    "            # Меняем местами элемент с родительским\n",
    "            self.heap[idx], self.heap[parent_idx] = self.heap[parent_idx], self.heap[idx]  \n",
    "            self._sift_up(parent_idx)  # Рекурсивно поднимаем родительский элемент\n",
    "\n",
    "    def _sift_down(self, idx):\n",
    "        child_idx = 2 * idx + 1  # Вычисляем индекс левого дочернего элемента\n",
    "        if child_idx < len(self.heap):  # Проверяем, есть ли левый дочерний элемент\n",
    "            # Проверяем, есть ли правый дочерний элемент и он меньше левого\n",
    "            if child_idx + 1 < len(self.heap) and self.heap[child_idx + 1] < self.heap[child_idx]:  \n",
    "                child_idx += 1  # Используем индекс правого дочернего элемента\n",
    "                # Проверяем, нужно ли опускать элемент\n",
    "            if self.heap[child_idx] < self.heap[idx]: \n",
    "                # Меняем местами элемент с дочерним\n",
    "                self.heap[child_idx], self.heap[idx] = self.heap[idx], self.heap[child_idx]\n",
    "                self._sift_down(child_idx)  # Рекурсивно опускаем дочерний элемент\n",
    "\n",
    "# Пример использования\n",
    "bh = BinaryHeap()  # Создаем экземпляр двоичной кучи\n",
    "bh.insert(1622547800)  # Вставляем временную метку\n",
    "bh.insert(1622548800)\n",
    "bh.insert(1622550000)\n",
    "bh.insert(1622551000)\n",
    "\n",
    "# Извлечение записей за определенный период\n",
    "start_timestamp = 1622547800  # Начальная временная метка периода\n",
    "end_timestamp = 1622550000  # Конечная временная метка периода\n",
    "records = bh.extract_in_period(start_timestamp, end_timestamp)  # Извлекаем записи за указанный период\n",
    "\n",
    "# Вывод извлеченных записей\n",
    "print(records)"
   ]
  }
 ],
 "metadata": {
  "kernelspec": {
   "display_name": "Python 3 (ipykernel)",
   "language": "python",
   "name": "python3"
  },
  "language_info": {
   "codemirror_mode": {
    "name": "ipython",
    "version": 3
   },
   "file_extension": ".py",
   "mimetype": "text/x-python",
   "name": "python",
   "nbconvert_exporter": "python",
   "pygments_lexer": "ipython3",
   "version": "3.9.0"
  }
 },
 "nbformat": 4,
 "nbformat_minor": 5
}
